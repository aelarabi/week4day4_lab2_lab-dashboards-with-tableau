{
 "cells": [
  {
   "cell_type": "markdown",
   "id": "ad6ebd01",
   "metadata": {},
   "source": [
    "<div class='tableauPlaceholder' id='viz1653582785393' style='position: relative'><noscript><a href='#'><img alt='Week4day4 Lab 2 : Tableau Dashboards ' src='https:&#47;&#47;public.tableau.com&#47;static&#47;images&#47;we&#47;week4day4_lab2_Tableau_Dashboards&#47;Week4day4Lab2TableauDashboards&#47;1_rss.png' style='border: none' /></a></noscript><object class='tableauViz'  style='display:none;'><param name='host_url' value='https%3A%2F%2Fpublic.tableau.com%2F' /> <param name='embed_code_version' value='3' /> <param name='site_root' value='' /><param name='name' value='week4day4_lab2_Tableau_Dashboards&#47;Week4day4Lab2TableauDashboards' /><param name='tabs' value='no' /><param name='toolbar' value='yes' /><param name='static_image' value='https:&#47;&#47;public.tableau.com&#47;static&#47;images&#47;we&#47;week4day4_lab2_Tableau_Dashboards&#47;Week4day4Lab2TableauDashboards&#47;1.png' /> <param name='animate_transition' value='yes' /><param name='display_static_image' value='yes' /><param name='display_spinner' value='yes' /><param name='display_overlay' value='yes' /><param name='display_count' value='yes' /><param name='language' value='en-US' /><param name='filter' value='publish=yes' /></object></div>                <script type='text/javascript'>                    var divElement = document.getElementById('viz1653582785393');                    var vizElement = divElement.getElementsByTagName('object')[0];                    if ( divElement.offsetWidth > 800 ) { vizElement.style.minWidth='420px';vizElement.style.maxWidth='100%';vizElement.style.minHeight='587px';vizElement.style.maxHeight=(divElement.offsetWidth*0.75)+'px';} else if ( divElement.offsetWidth > 500 ) { vizElement.style.minWidth='420px';vizElement.style.maxWidth='100%';vizElement.style.minHeight='587px';vizElement.style.maxHeight=(divElement.offsetWidth*0.75)+'px';} else { vizElement.style.width='100%';vizElement.style.height='1127px';}                     var scriptElement = document.createElement('script');                    scriptElement.src = 'https://public.tableau.com/javascripts/api/viz_v1.js';                    vizElement.parentNode.insertBefore(scriptElement, vizElement);                </script>"
   ]
  },
  {
   "cell_type": "markdown",
   "id": "16162d5e",
   "metadata": {},
   "source": [
    "https://public.tableau.com/views/week4day4_lab2_Tableau_Dashboards/Week4day4Lab2TableauDashboards?:language=en-US&publish=yes&:display_count=n&:origin=viz_share_link"
   ]
  },
  {
   "cell_type": "code",
   "execution_count": null,
   "id": "115e9dbe",
   "metadata": {},
   "outputs": [],
   "source": []
  }
 ],
 "metadata": {
  "kernelspec": {
   "display_name": "Python 3 (ipykernel)",
   "language": "python",
   "name": "python3"
  },
  "language_info": {
   "codemirror_mode": {
    "name": "ipython",
    "version": 3
   },
   "file_extension": ".py",
   "mimetype": "text/x-python",
   "name": "python",
   "nbconvert_exporter": "python",
   "pygments_lexer": "ipython3",
   "version": "3.9.7"
  }
 },
 "nbformat": 4,
 "nbformat_minor": 5
}
